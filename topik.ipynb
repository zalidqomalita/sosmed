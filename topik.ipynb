{
 "cells": [
  {
   "cell_type": "code",
   "execution_count": 1,
   "metadata": {},
   "outputs": [],
   "source": [
    "from sklearn.preprocessing import StandardScaler\n",
    "import matplotlib.pyplot as plt # plotting\n",
    "import numpy as np # linear algebra\n",
    "import pandas as pd\n",
    "import re"
   ]
  },
  {
   "cell_type": "code",
   "execution_count": 2,
   "metadata": {},
   "outputs": [
    {
     "name": "stdout",
     "output_type": "stream",
     "text": [
      "Ada 50 baris dan 3 kolom\n"
     ]
    }
   ],
   "source": [
    "nRowsRead = None\n",
    "df1 = pd.read_csv('C:\\\\Users\\\\imvla\\\\ZalidQomalita\\\\Job\\\\3. Script\\\\2024\\\\Sosmed\\\\dataset_artikel\\\\artikel_alwi.csv', delimiter=',', nrows = nRowsRead)\n",
    "\n",
    "nRow, nCol = df1.shape\n",
    "df1.drop(columns=['Judul'],inplace=True)\n",
    "print(f'Ada {nRow} baris dan {nCol} kolom')"
   ]
  },
  {
   "cell_type": "code",
   "execution_count": 37,
   "metadata": {},
   "outputs": [
    {
     "data": {
      "text/html": [
       "<div>\n",
       "<style scoped>\n",
       "    .dataframe tbody tr th:only-of-type {\n",
       "        vertical-align: middle;\n",
       "    }\n",
       "\n",
       "    .dataframe tbody tr th {\n",
       "        vertical-align: top;\n",
       "    }\n",
       "\n",
       "    .dataframe thead th {\n",
       "        text-align: right;\n",
       "    }\n",
       "</style>\n",
       "<table border=\"1\" class=\"dataframe\">\n",
       "  <thead>\n",
       "    <tr style=\"text-align: right;\">\n",
       "      <th></th>\n",
       "      <th>Bidang</th>\n",
       "      <th>Isi</th>\n",
       "    </tr>\n",
       "  </thead>\n",
       "  <tbody>\n",
       "    <tr>\n",
       "      <th>0</th>\n",
       "      <td>Ekonomi</td>\n",
       "      <td>Pemerintah optimistis ekonomi Indonesia akan t...</td>\n",
       "    </tr>\n",
       "    <tr>\n",
       "      <th>1</th>\n",
       "      <td>Ekonomi</td>\n",
       "      <td>Mandiri Investment Forum 2021 yang akan berlan...</td>\n",
       "    </tr>\n",
       "    <tr>\n",
       "      <th>2</th>\n",
       "      <td>Ekonomi</td>\n",
       "      <td>PT Bank Mandiri Tbk memprediksi bahwa pertumbu...</td>\n",
       "    </tr>\n",
       "    <tr>\n",
       "      <th>3</th>\n",
       "      <td>Ekonomi</td>\n",
       "      <td>Pemulihan ekonomi Indonesia diprediksi terjadi...</td>\n",
       "    </tr>\n",
       "    <tr>\n",
       "      <th>4</th>\n",
       "      <td>Ekonomi</td>\n",
       "      <td>Menteri Perindustrian (Menperin) Agus Gumiwang...</td>\n",
       "    </tr>\n",
       "    <tr>\n",
       "      <th>5</th>\n",
       "      <td>Ekonomi</td>\n",
       "      <td>Gubernur Bank Indonesia (BI) Perry Warjiyo mem...</td>\n",
       "    </tr>\n",
       "    <tr>\n",
       "      <th>6</th>\n",
       "      <td>Ekonomi</td>\n",
       "      <td>Presiden Joko Widodo (Jokowi) berkomitmen untu...</td>\n",
       "    </tr>\n",
       "    <tr>\n",
       "      <th>7</th>\n",
       "      <td>Ekonomi</td>\n",
       "      <td>Penemuan vaksin covid-19 menjadi kunci pemulih...</td>\n",
       "    </tr>\n",
       "    <tr>\n",
       "      <th>8</th>\n",
       "      <td>Ekonomi</td>\n",
       "      <td>Dalam forum internasional, Menteri Keuangan Sr...</td>\n",
       "    </tr>\n",
       "    <tr>\n",
       "      <th>9</th>\n",
       "      <td>Ekonomi</td>\n",
       "      <td>Direktur Jenderal Perhubungan Darat Kementeria...</td>\n",
       "    </tr>\n",
       "    <tr>\n",
       "      <th>10</th>\n",
       "      <td>Teknologi</td>\n",
       "      <td>Setahun berlalu sejak pandemi virus Covid-19 m...</td>\n",
       "    </tr>\n",
       "    <tr>\n",
       "      <th>11</th>\n",
       "      <td>Teknologi</td>\n",
       "      <td>NASA berencana mendaratkan manusia di Planet M...</td>\n",
       "    </tr>\n",
       "    <tr>\n",
       "      <th>12</th>\n",
       "      <td>Teknologi</td>\n",
       "      <td>Tuntutan mobilitas serta migrasi aplikasi dan ...</td>\n",
       "    </tr>\n",
       "    <tr>\n",
       "      <th>13</th>\n",
       "      <td>Teknologi</td>\n",
       "      <td>Awal tahun menjadi momen tak terlupakan oleh p...</td>\n",
       "    </tr>\n",
       "    <tr>\n",
       "      <th>14</th>\n",
       "      <td>Teknologi</td>\n",
       "      <td>PasarPolis berkomitmen bisa membuka peluang ga...</td>\n",
       "    </tr>\n",
       "    <tr>\n",
       "      <th>15</th>\n",
       "      <td>Teknologi</td>\n",
       "      <td>Berkembangnya teknologi digital dan akses info...</td>\n",
       "    </tr>\n",
       "    <tr>\n",
       "      <th>16</th>\n",
       "      <td>Teknologi</td>\n",
       "      <td>CEO Apple Tim Cook secara tidak langsung menyi...</td>\n",
       "    </tr>\n",
       "    <tr>\n",
       "      <th>17</th>\n",
       "      <td>Teknologi</td>\n",
       "      <td>Teknologi yang berkembang di dunia otomotif ti...</td>\n",
       "    </tr>\n",
       "    <tr>\n",
       "      <th>18</th>\n",
       "      <td>Teknologi</td>\n",
       "      <td>Mobil listrik menjadi isu paling menarik belak...</td>\n",
       "    </tr>\n",
       "    <tr>\n",
       "      <th>19</th>\n",
       "      <td>Teknologi</td>\n",
       "      <td>Terobosan demi terobosan terus dihadirkan oleh...</td>\n",
       "    </tr>\n",
       "    <tr>\n",
       "      <th>20</th>\n",
       "      <td>Hukum</td>\n",
       "      <td>Dewan Perwakilan Rakyat Amerika Serikat memili...</td>\n",
       "    </tr>\n",
       "    <tr>\n",
       "      <th>21</th>\n",
       "      <td>Hukum</td>\n",
       "      <td>Polda NTT mulai menyelidiki kasus kewarganegar...</td>\n",
       "    </tr>\n",
       "    <tr>\n",
       "      <th>22</th>\n",
       "      <td>Hukum</td>\n",
       "      <td>Jaksa di Kejari Kuansing, Riau, menahan dua pe...</td>\n",
       "    </tr>\n",
       "    <tr>\n",
       "      <th>23</th>\n",
       "      <td>Hukum</td>\n",
       "      <td>Pakar hukum Tindak Pidana Pencucian Uang (TPPU...</td>\n",
       "    </tr>\n",
       "    <tr>\n",
       "      <th>24</th>\n",
       "      <td>Hukum</td>\n",
       "      <td>Kasus siswi nonmuslim di SMK Negeri 2 kota Pad...</td>\n",
       "    </tr>\n",
       "    <tr>\n",
       "      <th>25</th>\n",
       "      <td>Hukum</td>\n",
       "      <td>Mantan vokalis Kerispatih, Sammy Simorangkir, ...</td>\n",
       "    </tr>\n",
       "    <tr>\n",
       "      <th>26</th>\n",
       "      <td>Hukum</td>\n",
       "      <td>Perdana Menteri Thailand, Prayuth Chan-ocha, p...</td>\n",
       "    </tr>\n",
       "    <tr>\n",
       "      <th>27</th>\n",
       "      <td>Hukum</td>\n",
       "      <td>Pakar Hukum Tindak Pidana Pencucian Uang (TPPU...</td>\n",
       "    </tr>\n",
       "    <tr>\n",
       "      <th>28</th>\n",
       "      <td>Hukum</td>\n",
       "      <td>Fraksi PKB di DPR RI mengusulkan agar RUU Peng...</td>\n",
       "    </tr>\n",
       "    <tr>\n",
       "      <th>29</th>\n",
       "      <td>Hukum</td>\n",
       "      <td>Kerajaan Arab Saudi merilis aturan untuk mengu...</td>\n",
       "    </tr>\n",
       "    <tr>\n",
       "      <th>30</th>\n",
       "      <td>Sosial</td>\n",
       "      <td>Sebanyak 500 penerima manfaat di Tambora, Jaka...</td>\n",
       "    </tr>\n",
       "    <tr>\n",
       "      <th>31</th>\n",
       "      <td>Sosial</td>\n",
       "      <td>Interaksi langsung yang jauh menurun demi mena...</td>\n",
       "    </tr>\n",
       "    <tr>\n",
       "      <th>32</th>\n",
       "      <td>Sosial</td>\n",
       "      <td>Ketua Umum Asosiasi Peternak Layer Nasional, K...</td>\n",
       "    </tr>\n",
       "    <tr>\n",
       "      <th>33</th>\n",
       "      <td>Sosial</td>\n",
       "      <td>Anak-anak dari segala usia dapat sepenuhnya me...</td>\n",
       "    </tr>\n",
       "    <tr>\n",
       "      <th>34</th>\n",
       "      <td>Sosial</td>\n",
       "      <td>Menteri Priwisata dan Ekonomi Kreatif Sandiaga...</td>\n",
       "    </tr>\n",
       "    <tr>\n",
       "      <th>35</th>\n",
       "      <td>Sosial</td>\n",
       "      <td>Sub Direktorat Pengendalian Konten Internet Di...</td>\n",
       "    </tr>\n",
       "    <tr>\n",
       "      <th>36</th>\n",
       "      <td>Sosial</td>\n",
       "      <td>Sejak pandemi Covid-19 melanda Indonesia sejak...</td>\n",
       "    </tr>\n",
       "    <tr>\n",
       "      <th>37</th>\n",
       "      <td>Sosial</td>\n",
       "      <td>Petugas gabungan dari unsur Satpol PP, TNI dan...</td>\n",
       "    </tr>\n",
       "    <tr>\n",
       "      <th>38</th>\n",
       "      <td>Sosial</td>\n",
       "      <td>Presiden Joko Widodo (Jokowi) membuka opsi pem...</td>\n",
       "    </tr>\n",
       "    <tr>\n",
       "      <th>39</th>\n",
       "      <td>Sosial</td>\n",
       "      <td>Kesenjangan rasial dalam kasus kematian Covid-...</td>\n",
       "    </tr>\n",
       "    <tr>\n",
       "      <th>40</th>\n",
       "      <td>Kesehatan</td>\n",
       "      <td>Gubernur Jawa Timur Khofifah Indar Parawansa m...</td>\n",
       "    </tr>\n",
       "    <tr>\n",
       "      <th>41</th>\n",
       "      <td>Kesehatan</td>\n",
       "      <td>Pemerintah Kalimantan Timur membatasi aktivita...</td>\n",
       "    </tr>\n",
       "    <tr>\n",
       "      <th>42</th>\n",
       "      <td>Kesehatan</td>\n",
       "      <td>Sebanyak 8.150 tenaga kesehatan di Kota Malang...</td>\n",
       "    </tr>\n",
       "    <tr>\n",
       "      <th>43</th>\n",
       "      <td>Kesehatan</td>\n",
       "      <td>Di tengah lonjakan kasus COVID-19 di Indonesia...</td>\n",
       "    </tr>\n",
       "    <tr>\n",
       "      <th>44</th>\n",
       "      <td>Kesehatan</td>\n",
       "      <td>Satuan Tugas (Satgas) Penanganan COVID-19 Prov...</td>\n",
       "    </tr>\n",
       "    <tr>\n",
       "      <th>45</th>\n",
       "      <td>Kesehatan</td>\n",
       "      <td>Wakil Gubernur DKI Jakarta Ahmad Riza Patria m...</td>\n",
       "    </tr>\n",
       "    <tr>\n",
       "      <th>46</th>\n",
       "      <td>Kesehatan</td>\n",
       "      <td>Presiden Joko Widodo atau Jokowi menyampaikan ...</td>\n",
       "    </tr>\n",
       "    <tr>\n",
       "      <th>47</th>\n",
       "      <td>Kesehatan</td>\n",
       "      <td>Menteri Kesehatan (Menkes) Budi Gunadi Sadikin...</td>\n",
       "    </tr>\n",
       "    <tr>\n",
       "      <th>48</th>\n",
       "      <td>Kesehatan</td>\n",
       "      <td>Juru Bicara Satuan Tugas Penanganan COVID-19 W...</td>\n",
       "    </tr>\n",
       "    <tr>\n",
       "      <th>49</th>\n",
       "      <td>Kesehatan</td>\n",
       "      <td>Pemerintah Provinsi Jawa Barat berencana mengg...</td>\n",
       "    </tr>\n",
       "  </tbody>\n",
       "</table>\n",
       "</div>"
      ],
      "text/plain": [
       "       Bidang                                                Isi\n",
       "0     Ekonomi  Pemerintah optimistis ekonomi Indonesia akan t...\n",
       "1     Ekonomi  Mandiri Investment Forum 2021 yang akan berlan...\n",
       "2     Ekonomi  PT Bank Mandiri Tbk memprediksi bahwa pertumbu...\n",
       "3     Ekonomi  Pemulihan ekonomi Indonesia diprediksi terjadi...\n",
       "4     Ekonomi  Menteri Perindustrian (Menperin) Agus Gumiwang...\n",
       "5     Ekonomi  Gubernur Bank Indonesia (BI) Perry Warjiyo mem...\n",
       "6     Ekonomi  Presiden Joko Widodo (Jokowi) berkomitmen untu...\n",
       "7     Ekonomi  Penemuan vaksin covid-19 menjadi kunci pemulih...\n",
       "8     Ekonomi  Dalam forum internasional, Menteri Keuangan Sr...\n",
       "9     Ekonomi  Direktur Jenderal Perhubungan Darat Kementeria...\n",
       "10  Teknologi  Setahun berlalu sejak pandemi virus Covid-19 m...\n",
       "11  Teknologi  NASA berencana mendaratkan manusia di Planet M...\n",
       "12  Teknologi  Tuntutan mobilitas serta migrasi aplikasi dan ...\n",
       "13  Teknologi  Awal tahun menjadi momen tak terlupakan oleh p...\n",
       "14  Teknologi  PasarPolis berkomitmen bisa membuka peluang ga...\n",
       "15  Teknologi  Berkembangnya teknologi digital dan akses info...\n",
       "16  Teknologi  CEO Apple Tim Cook secara tidak langsung menyi...\n",
       "17  Teknologi  Teknologi yang berkembang di dunia otomotif ti...\n",
       "18  Teknologi  Mobil listrik menjadi isu paling menarik belak...\n",
       "19  Teknologi  Terobosan demi terobosan terus dihadirkan oleh...\n",
       "20      Hukum  Dewan Perwakilan Rakyat Amerika Serikat memili...\n",
       "21      Hukum  Polda NTT mulai menyelidiki kasus kewarganegar...\n",
       "22      Hukum  Jaksa di Kejari Kuansing, Riau, menahan dua pe...\n",
       "23      Hukum  Pakar hukum Tindak Pidana Pencucian Uang (TPPU...\n",
       "24      Hukum  Kasus siswi nonmuslim di SMK Negeri 2 kota Pad...\n",
       "25      Hukum  Mantan vokalis Kerispatih, Sammy Simorangkir, ...\n",
       "26      Hukum  Perdana Menteri Thailand, Prayuth Chan-ocha, p...\n",
       "27      Hukum  Pakar Hukum Tindak Pidana Pencucian Uang (TPPU...\n",
       "28      Hukum  Fraksi PKB di DPR RI mengusulkan agar RUU Peng...\n",
       "29      Hukum  Kerajaan Arab Saudi merilis aturan untuk mengu...\n",
       "30     Sosial  Sebanyak 500 penerima manfaat di Tambora, Jaka...\n",
       "31     Sosial  Interaksi langsung yang jauh menurun demi mena...\n",
       "32     Sosial  Ketua Umum Asosiasi Peternak Layer Nasional, K...\n",
       "33     Sosial  Anak-anak dari segala usia dapat sepenuhnya me...\n",
       "34     Sosial  Menteri Priwisata dan Ekonomi Kreatif Sandiaga...\n",
       "35     Sosial  Sub Direktorat Pengendalian Konten Internet Di...\n",
       "36     Sosial  Sejak pandemi Covid-19 melanda Indonesia sejak...\n",
       "37     Sosial  Petugas gabungan dari unsur Satpol PP, TNI dan...\n",
       "38     Sosial  Presiden Joko Widodo (Jokowi) membuka opsi pem...\n",
       "39     Sosial  Kesenjangan rasial dalam kasus kematian Covid-...\n",
       "40  Kesehatan  Gubernur Jawa Timur Khofifah Indar Parawansa m...\n",
       "41  Kesehatan  Pemerintah Kalimantan Timur membatasi aktivita...\n",
       "42  Kesehatan  Sebanyak 8.150 tenaga kesehatan di Kota Malang...\n",
       "43  Kesehatan  Di tengah lonjakan kasus COVID-19 di Indonesia...\n",
       "44  Kesehatan  Satuan Tugas (Satgas) Penanganan COVID-19 Prov...\n",
       "45  Kesehatan  Wakil Gubernur DKI Jakarta Ahmad Riza Patria m...\n",
       "46  Kesehatan  Presiden Joko Widodo atau Jokowi menyampaikan ...\n",
       "47  Kesehatan  Menteri Kesehatan (Menkes) Budi Gunadi Sadikin...\n",
       "48  Kesehatan  Juru Bicara Satuan Tugas Penanganan COVID-19 W...\n",
       "49  Kesehatan  Pemerintah Provinsi Jawa Barat berencana mengg..."
      ]
     },
     "execution_count": 37,
     "metadata": {},
     "output_type": "execute_result"
    }
   ],
   "source": [
    "df1"
   ]
  },
  {
   "cell_type": "code",
   "execution_count": 9,
   "metadata": {},
   "outputs": [
    {
     "data": {
      "text/plain": [
       "Bidang\n",
       "Ekonomi      10\n",
       "Teknologi    10\n",
       "Hukum        10\n",
       "Sosial       10\n",
       "Kesehatan    10\n",
       "Name: count, dtype: int64"
      ]
     },
     "execution_count": 9,
     "metadata": {},
     "output_type": "execute_result"
    }
   ],
   "source": [
    "df1['Bidang'].value_counts()"
   ]
  },
  {
   "cell_type": "code",
   "execution_count": 4,
   "metadata": {},
   "outputs": [
    {
     "name": "stdout",
     "output_type": "stream",
     "text": [
      "Ada 887 baris dan 2 kolom\n"
     ]
    }
   ],
   "source": [
    "#Data Kedua\n",
    "df2 = pd.read_csv('C:\\\\Users\\\\imvla\\\\ZalidQomalita\\\\Job\\\\3. Script\\\\2024\\\\Sosmed\\\\dataset_artikel\\\\sentences.csv', delimiter=',', nrows = nRowsRead)\n",
    "\n",
    "nRow, nCol = df2.shape\n",
    "print(f'Ada {nRow} baris dan {nCol} kolom')"
   ]
  },
  {
   "cell_type": "code",
   "execution_count": 10,
   "metadata": {},
   "outputs": [
    {
     "data": {
      "text/plain": [
       "kategori_teks\n",
       "ekonomi      231\n",
       "politik      229\n",
       "hiburan      227\n",
       "kesehatan    200\n",
       "Name: count, dtype: int64"
      ]
     },
     "execution_count": 10,
     "metadata": {},
     "output_type": "execute_result"
    }
   ],
   "source": [
    "df2['kategori_teks'].value_counts()"
   ]
  },
  {
   "cell_type": "code",
   "execution_count": 38,
   "metadata": {},
   "outputs": [
    {
     "name": "stdout",
     "output_type": "stream",
     "text": [
      "Ada 1460 baris dan 2 kolom\n"
     ]
    },
    {
     "data": {
      "text/plain": [
       "Bidang\n",
       "sosial                       279\n",
       "pendidikan                   274\n",
       "kependudukan                 242\n",
       "administrasi pemerintahan    232\n",
       "lingkungan hidup             229\n",
       "infrastruktur                204\n",
       "Name: count, dtype: int64"
      ]
     },
     "execution_count": 38,
     "metadata": {},
     "output_type": "execute_result"
    }
   ],
   "source": [
    "# DATASET 3\n",
    "\n",
    "nRowsRead = None\n",
    "df3 = pd.read_excel('C:\\\\Users\\\\imvla\\\\ZalidQomalita\\\\Job\\\\3. Script\\\\2024\\\\Sosmed\\\\OpenData.xlsx') \n",
    "\n",
    "nRow, nCol = df3.shape\n",
    "print(f'Ada {nRow} baris dan {nCol} kolom')\n",
    "df3['Bidang'].value_counts()"
   ]
  },
  {
   "cell_type": "code",
   "execution_count": 51,
   "metadata": {},
   "outputs": [
    {
     "data": {
      "text/html": [
       "<div>\n",
       "<style scoped>\n",
       "    .dataframe tbody tr th:only-of-type {\n",
       "        vertical-align: middle;\n",
       "    }\n",
       "\n",
       "    .dataframe tbody tr th {\n",
       "        vertical-align: top;\n",
       "    }\n",
       "\n",
       "    .dataframe thead th {\n",
       "        text-align: right;\n",
       "    }\n",
       "</style>\n",
       "<table border=\"1\" class=\"dataframe\">\n",
       "  <thead>\n",
       "    <tr style=\"text-align: right;\">\n",
       "      <th></th>\n",
       "      <th>Bidang</th>\n",
       "      <th>Isi</th>\n",
       "    </tr>\n",
       "  </thead>\n",
       "  <tbody>\n",
       "    <tr>\n",
       "      <th>15</th>\n",
       "      <td>teknologi</td>\n",
       "      <td>Liputan6.com, Jakarta - Bos Amazon Jeff Bezos ...</td>\n",
       "    </tr>\n",
       "    <tr>\n",
       "      <th>21</th>\n",
       "      <td>teknologi</td>\n",
       "      <td>Liputan6.com, Jakarta - Gojek mengapresiasi Un...</td>\n",
       "    </tr>\n",
       "    <tr>\n",
       "      <th>25</th>\n",
       "      <td>teknologi</td>\n",
       "      <td>Liputan6.com, Jakarta Setiap handphone pasti m...</td>\n",
       "    </tr>\n",
       "    <tr>\n",
       "      <th>29</th>\n",
       "      <td>teknologi</td>\n",
       "      <td>Liputan6.com, Jakarta - PT Pasifik Satelit Nus...</td>\n",
       "    </tr>\n",
       "    <tr>\n",
       "      <th>31</th>\n",
       "      <td>teknologi</td>\n",
       "      <td>Liputan6.com, Jakarta Samsung, brand ternama a...</td>\n",
       "    </tr>\n",
       "    <tr>\n",
       "      <th>...</th>\n",
       "      <td>...</td>\n",
       "      <td>...</td>\n",
       "    </tr>\n",
       "    <tr>\n",
       "      <th>2917</th>\n",
       "      <td>teknologi</td>\n",
       "      <td>Liputan6.com, Jakarta - Sejumlah aplikasi-apli...</td>\n",
       "    </tr>\n",
       "    <tr>\n",
       "      <th>2920</th>\n",
       "      <td>teknologi</td>\n",
       "      <td>Liputan6.com, Jakarta - Electronic Arts baru s...</td>\n",
       "    </tr>\n",
       "    <tr>\n",
       "      <th>2921</th>\n",
       "      <td>teknologi</td>\n",
       "      <td>Liputan6.com, Jakarta - Lolos babak kualifikas...</td>\n",
       "    </tr>\n",
       "    <tr>\n",
       "      <th>2933</th>\n",
       "      <td>teknologi</td>\n",
       "      <td>Liputan6.com, Jakarta - Warganet Indonesia sea...</td>\n",
       "    </tr>\n",
       "    <tr>\n",
       "      <th>2934</th>\n",
       "      <td>teknologi</td>\n",
       "      <td>Liputan6.com, Jakarta - Android tak dimungkiri...</td>\n",
       "    </tr>\n",
       "  </tbody>\n",
       "</table>\n",
       "<p>287 rows × 2 columns</p>\n",
       "</div>"
      ],
      "text/plain": [
       "         Bidang                                                Isi\n",
       "15    teknologi  Liputan6.com, Jakarta - Bos Amazon Jeff Bezos ...\n",
       "21    teknologi  Liputan6.com, Jakarta - Gojek mengapresiasi Un...\n",
       "25    teknologi  Liputan6.com, Jakarta Setiap handphone pasti m...\n",
       "29    teknologi  Liputan6.com, Jakarta - PT Pasifik Satelit Nus...\n",
       "31    teknologi  Liputan6.com, Jakarta Samsung, brand ternama a...\n",
       "...         ...                                                ...\n",
       "2917  teknologi  Liputan6.com, Jakarta - Sejumlah aplikasi-apli...\n",
       "2920  teknologi  Liputan6.com, Jakarta - Electronic Arts baru s...\n",
       "2921  teknologi  Liputan6.com, Jakarta - Lolos babak kualifikas...\n",
       "2933  teknologi  Liputan6.com, Jakarta - Warganet Indonesia sea...\n",
       "2934  teknologi  Liputan6.com, Jakarta - Android tak dimungkiri...\n",
       "\n",
       "[287 rows x 2 columns]"
      ]
     },
     "execution_count": 51,
     "metadata": {},
     "output_type": "execute_result"
    }
   ],
   "source": [
    "#DATASET 4  : https://github.com/andreaschandra/indonesian-news\n",
    "import pickle\n",
    "\n",
    "files = \"C:\\\\Users\\\\imvla\\\\ZalidQomalita\\\\Job\\\\3. Script\\\\2024\\\\Sosmed\\\\training.res\"\n",
    "data4 = pickle.load(open(files, 'rb'))\n",
    "d4 = pd.DataFrame({'content': data4[0], 'label': data4[1]})\n",
    "tekno = d4[d4['label']=='tekno']\n",
    "tekno = tekno[:287]\n",
    "tekno['label']='teknologi'\n",
    "df_tekno = pd.concat([tekno['label'],tekno['content']],axis=1)\n",
    "df_tekno.columns = ['Bidang','Isi']\n",
    "df_tekno\n"
   ]
  },
  {
   "cell_type": "code",
   "execution_count": 49,
   "metadata": {},
   "outputs": [
    {
     "data": {
      "text/html": [
       "<div>\n",
       "<style scoped>\n",
       "    .dataframe tbody tr th:only-of-type {\n",
       "        vertical-align: middle;\n",
       "    }\n",
       "\n",
       "    .dataframe tbody tr th {\n",
       "        vertical-align: top;\n",
       "    }\n",
       "\n",
       "    .dataframe thead th {\n",
       "        text-align: right;\n",
       "    }\n",
       "</style>\n",
       "<table border=\"1\" class=\"dataframe\">\n",
       "  <thead>\n",
       "    <tr style=\"text-align: right;\">\n",
       "      <th></th>\n",
       "      <th>summarize</th>\n",
       "      <th>Bidang</th>\n",
       "    </tr>\n",
       "  </thead>\n",
       "  <tbody>\n",
       "    <tr>\n",
       "      <th>0</th>\n",
       "      <td>Girik bukanlah tanda bukti atas tanah, tetapi ...</td>\n",
       "      <td>hukum</td>\n",
       "    </tr>\n",
       "    <tr>\n",
       "      <th>1</th>\n",
       "      <td>\\nSaat ini, kedudukan dan legal standing paral...</td>\n",
       "      <td>hukum</td>\n",
       "    </tr>\n",
       "    <tr>\n",
       "      <th>2</th>\n",
       "      <td>Penggelapan merupakan delik biasa yang tidak m...</td>\n",
       "      <td>hukum</td>\n",
       "    </tr>\n",
       "    <tr>\n",
       "      <th>3</th>\n",
       "      <td>Pengusaha mempekerjakan pekerja/buruh melebihi...</td>\n",
       "      <td>hukum</td>\n",
       "    </tr>\n",
       "    <tr>\n",
       "      <th>4</th>\n",
       "      <td>\\nDalam hal seorang polisi berada di club mala...</td>\n",
       "      <td>hukum</td>\n",
       "    </tr>\n",
       "    <tr>\n",
       "      <th>...</th>\n",
       "      <td>...</td>\n",
       "      <td>...</td>\n",
       "    </tr>\n",
       "    <tr>\n",
       "      <th>282</th>\n",
       "      <td>Remisi atau pengurangan menjalani masa pidana ...</td>\n",
       "      <td>hukum</td>\n",
       "    </tr>\n",
       "    <tr>\n",
       "      <th>283</th>\n",
       "      <td>Anggaran Pendapatan dan Belanja Negara (“APBN”...</td>\n",
       "      <td>hukum</td>\n",
       "    </tr>\n",
       "    <tr>\n",
       "      <th>284</th>\n",
       "      <td>Pada intinya, di Indonesia terdapat asas kepem...</td>\n",
       "      <td>hukum</td>\n",
       "    </tr>\n",
       "    <tr>\n",
       "      <th>285</th>\n",
       "      <td>Pemagangan dilakukan dengan perjanjian tertuli...</td>\n",
       "      <td>hukum</td>\n",
       "    </tr>\n",
       "    <tr>\n",
       "      <th>286</th>\n",
       "      <td>Hak warga negara adalah hak khusus yang diberi...</td>\n",
       "      <td>hukum</td>\n",
       "    </tr>\n",
       "  </tbody>\n",
       "</table>\n",
       "<p>287 rows × 2 columns</p>\n",
       "</div>"
      ],
      "text/plain": [
       "                                             summarize Bidang\n",
       "0    Girik bukanlah tanda bukti atas tanah, tetapi ...  hukum\n",
       "1    \\nSaat ini, kedudukan dan legal standing paral...  hukum\n",
       "2    Penggelapan merupakan delik biasa yang tidak m...  hukum\n",
       "3    Pengusaha mempekerjakan pekerja/buruh melebihi...  hukum\n",
       "4    \\nDalam hal seorang polisi berada di club mala...  hukum\n",
       "..                                                 ...    ...\n",
       "282  Remisi atau pengurangan menjalani masa pidana ...  hukum\n",
       "283  Anggaran Pendapatan dan Belanja Negara (“APBN”...  hukum\n",
       "284  Pada intinya, di Indonesia terdapat asas kepem...  hukum\n",
       "285  Pemagangan dilakukan dengan perjanjian tertuli...  hukum\n",
       "286  Hak warga negara adalah hak khusus yang diberi...  hukum\n",
       "\n",
       "[287 rows x 2 columns]"
      ]
     },
     "execution_count": 49,
     "metadata": {},
     "output_type": "execute_result"
    }
   ],
   "source": [
    "#dataset 5\n",
    "df5_read = pd.read_json(\"hf://datasets/biznetgio/indonesia-law-qa-embeddings/embedings.json\")\n",
    "df5 = df5_read[['summarize']].copy()\n",
    "df5['Bidang'] = 'hukum'\n",
    "df5[:287]\n"
   ]
  },
  {
   "cell_type": "code",
   "execution_count": 50,
   "metadata": {},
   "outputs": [
    {
     "data": {
      "text/html": [
       "<div>\n",
       "<style scoped>\n",
       "    .dataframe tbody tr th:only-of-type {\n",
       "        vertical-align: middle;\n",
       "    }\n",
       "\n",
       "    .dataframe tbody tr th {\n",
       "        vertical-align: top;\n",
       "    }\n",
       "\n",
       "    .dataframe thead th {\n",
       "        text-align: right;\n",
       "    }\n",
       "</style>\n",
       "<table border=\"1\" class=\"dataframe\">\n",
       "  <thead>\n",
       "    <tr style=\"text-align: right;\">\n",
       "      <th></th>\n",
       "      <th>Bidang</th>\n",
       "      <th>Isi</th>\n",
       "    </tr>\n",
       "  </thead>\n",
       "  <tbody>\n",
       "    <tr>\n",
       "      <th>0</th>\n",
       "      <td>hukum</td>\n",
       "      <td>Girik bukanlah tanda bukti atas tanah, tetapi ...</td>\n",
       "    </tr>\n",
       "    <tr>\n",
       "      <th>1</th>\n",
       "      <td>hukum</td>\n",
       "      <td>\\nSaat ini, kedudukan dan legal standing paral...</td>\n",
       "    </tr>\n",
       "    <tr>\n",
       "      <th>2</th>\n",
       "      <td>hukum</td>\n",
       "      <td>Penggelapan merupakan delik biasa yang tidak m...</td>\n",
       "    </tr>\n",
       "    <tr>\n",
       "      <th>3</th>\n",
       "      <td>hukum</td>\n",
       "      <td>Pengusaha mempekerjakan pekerja/buruh melebihi...</td>\n",
       "    </tr>\n",
       "    <tr>\n",
       "      <th>4</th>\n",
       "      <td>hukum</td>\n",
       "      <td>\\nDalam hal seorang polisi berada di club mala...</td>\n",
       "    </tr>\n",
       "    <tr>\n",
       "      <th>...</th>\n",
       "      <td>...</td>\n",
       "      <td>...</td>\n",
       "    </tr>\n",
       "    <tr>\n",
       "      <th>283</th>\n",
       "      <td>hukum</td>\n",
       "      <td>Anggaran Pendapatan dan Belanja Negara (“APBN”...</td>\n",
       "    </tr>\n",
       "    <tr>\n",
       "      <th>284</th>\n",
       "      <td>hukum</td>\n",
       "      <td>Pada intinya, di Indonesia terdapat asas kepem...</td>\n",
       "    </tr>\n",
       "    <tr>\n",
       "      <th>285</th>\n",
       "      <td>hukum</td>\n",
       "      <td>Pemagangan dilakukan dengan perjanjian tertuli...</td>\n",
       "    </tr>\n",
       "    <tr>\n",
       "      <th>286</th>\n",
       "      <td>hukum</td>\n",
       "      <td>Hak warga negara adalah hak khusus yang diberi...</td>\n",
       "    </tr>\n",
       "    <tr>\n",
       "      <th>287</th>\n",
       "      <td>hukum</td>\n",
       "      <td>\\nPerlu diketahui bahwa perkawinan haruslah di...</td>\n",
       "    </tr>\n",
       "  </tbody>\n",
       "</table>\n",
       "<p>288 rows × 2 columns</p>\n",
       "</div>"
      ],
      "text/plain": [
       "    Bidang                                                Isi\n",
       "0    hukum  Girik bukanlah tanda bukti atas tanah, tetapi ...\n",
       "1    hukum  \\nSaat ini, kedudukan dan legal standing paral...\n",
       "2    hukum  Penggelapan merupakan delik biasa yang tidak m...\n",
       "3    hukum  Pengusaha mempekerjakan pekerja/buruh melebihi...\n",
       "4    hukum  \\nDalam hal seorang polisi berada di club mala...\n",
       "..     ...                                                ...\n",
       "283  hukum  Anggaran Pendapatan dan Belanja Negara (“APBN”...\n",
       "284  hukum  Pada intinya, di Indonesia terdapat asas kepem...\n",
       "285  hukum  Pemagangan dilakukan dengan perjanjian tertuli...\n",
       "286  hukum  Hak warga negara adalah hak khusus yang diberi...\n",
       "287  hukum  \\nPerlu diketahui bahwa perkawinan haruslah di...\n",
       "\n",
       "[288 rows x 2 columns]"
      ]
     },
     "execution_count": 50,
     "metadata": {},
     "output_type": "execute_result"
    }
   ],
   "source": [
    "df5 = df5[:288]\n",
    "df5_ = pd.concat([df5['Bidang'],df5['summarize']],axis=1)\n",
    "df5_.columns = ['Bidang','Isi']\n",
    "df5_"
   ]
  },
  {
   "cell_type": "code",
   "execution_count": 43,
   "metadata": {},
   "outputs": [],
   "source": [
    "def remove_df_special(text):\n",
    "    text = text.replace('\\\\t',\" \").replace('\\\\n',\" \").replace('\\\\u',\" \").replace('\\\\',\"\").replace('\\xa0',\" \").replace(\"\\\"\",\"\")\n",
    "    text = text.lower()\n",
    "    text = ''.join([i for i in text if not i.isdigit()])\n",
    "    text = text[:200]\n",
    "    return text.replace(\"http://\", \" \").replace(\"https://\", \" \")"
   ]
  },
  {
   "cell_type": "code",
   "execution_count": 42,
   "metadata": {},
   "outputs": [
    {
     "data": {
      "text/html": [
       "<div>\n",
       "<style scoped>\n",
       "    .dataframe tbody tr th:only-of-type {\n",
       "        vertical-align: middle;\n",
       "    }\n",
       "\n",
       "    .dataframe tbody tr th {\n",
       "        vertical-align: top;\n",
       "    }\n",
       "\n",
       "    .dataframe thead th {\n",
       "        text-align: right;\n",
       "    }\n",
       "</style>\n",
       "<table border=\"1\" class=\"dataframe\">\n",
       "  <thead>\n",
       "    <tr style=\"text-align: right;\">\n",
       "      <th></th>\n",
       "      <th>Bidang</th>\n",
       "      <th>Isi</th>\n",
       "    </tr>\n",
       "  </thead>\n",
       "  <tbody>\n",
       "    <tr>\n",
       "      <th>0</th>\n",
       "      <td>kesehatan</td>\n",
       "      <td>“12 puskesmas di Sukoharjo telah memiliki klin...</td>\n",
       "    </tr>\n",
       "    <tr>\n",
       "      <th>1</th>\n",
       "      <td>kesehatan</td>\n",
       "      <td>\"Ada kemungkinan masa rehatnya itu akan panjan...</td>\n",
       "    </tr>\n",
       "    <tr>\n",
       "      <th>2</th>\n",
       "      <td>kesehatan</td>\n",
       "      <td>\"Adapun penyebab kematiannya adalah air mendid...</td>\n",
       "    </tr>\n",
       "    <tr>\n",
       "      <th>3</th>\n",
       "      <td>kesehatan</td>\n",
       "      <td>\"Ada empat orang yang akan membesuk ke rumah s...</td>\n",
       "    </tr>\n",
       "    <tr>\n",
       "      <th>4</th>\n",
       "      <td>kesehatan</td>\n",
       "      <td>“Ada tempat-tempat yang tidak boleh merokok.\"</td>\n",
       "    </tr>\n",
       "    <tr>\n",
       "      <th>...</th>\n",
       "      <td>...</td>\n",
       "      <td>...</td>\n",
       "    </tr>\n",
       "    <tr>\n",
       "      <th>882</th>\n",
       "      <td>hiburan</td>\n",
       "      <td>Kang Seung-yoon mengunggah foto nasi goreng de...</td>\n",
       "    </tr>\n",
       "    <tr>\n",
       "      <th>883</th>\n",
       "      <td>hiburan</td>\n",
       "      <td>Karena itu kami ingin melalui musik Indonesia ...</td>\n",
       "    </tr>\n",
       "    <tr>\n",
       "      <th>884</th>\n",
       "      <td>hiburan</td>\n",
       "      <td>Karena kehebohan itu, banyak yang penasaran de...</td>\n",
       "    </tr>\n",
       "    <tr>\n",
       "      <th>885</th>\n",
       "      <td>hiburan</td>\n",
       "      <td>Kebahagiaan akan muncul dari anak-anak.</td>\n",
       "    </tr>\n",
       "    <tr>\n",
       "      <th>886</th>\n",
       "      <td>hiburan</td>\n",
       "      <td>Lokasi ini akan menjadi destinasi wisata tujua...</td>\n",
       "    </tr>\n",
       "  </tbody>\n",
       "</table>\n",
       "<p>887 rows × 2 columns</p>\n",
       "</div>"
      ],
      "text/plain": [
       "        Bidang                                                Isi\n",
       "0    kesehatan  “12 puskesmas di Sukoharjo telah memiliki klin...\n",
       "1    kesehatan  \"Ada kemungkinan masa rehatnya itu akan panjan...\n",
       "2    kesehatan  \"Adapun penyebab kematiannya adalah air mendid...\n",
       "3    kesehatan  \"Ada empat orang yang akan membesuk ke rumah s...\n",
       "4    kesehatan      “Ada tempat-tempat yang tidak boleh merokok.\"\n",
       "..         ...                                                ...\n",
       "882    hiburan  Kang Seung-yoon mengunggah foto nasi goreng de...\n",
       "883    hiburan  Karena itu kami ingin melalui musik Indonesia ...\n",
       "884    hiburan  Karena kehebohan itu, banyak yang penasaran de...\n",
       "885    hiburan            Kebahagiaan akan muncul dari anak-anak.\n",
       "886    hiburan  Lokasi ini akan menjadi destinasi wisata tujua...\n",
       "\n",
       "[887 rows x 2 columns]"
      ]
     },
     "execution_count": 42,
     "metadata": {},
     "output_type": "execute_result"
    }
   ],
   "source": [
    "df_temp = pd.concat([df2['kategori_teks'],df2['kalimat']],axis=1)\n",
    "df_temp.columns = ['Bidang','Isi']\n",
    "df_temp"
   ]
  },
  {
   "cell_type": "code",
   "execution_count": 52,
   "metadata": {},
   "outputs": [
    {
     "data": {
      "text/html": [
       "<div>\n",
       "<style scoped>\n",
       "    .dataframe tbody tr th:only-of-type {\n",
       "        vertical-align: middle;\n",
       "    }\n",
       "\n",
       "    .dataframe tbody tr th {\n",
       "        vertical-align: top;\n",
       "    }\n",
       "\n",
       "    .dataframe thead th {\n",
       "        text-align: right;\n",
       "    }\n",
       "</style>\n",
       "<table border=\"1\" class=\"dataframe\">\n",
       "  <thead>\n",
       "    <tr style=\"text-align: right;\">\n",
       "      <th></th>\n",
       "      <th>bidang</th>\n",
       "      <th>isi</th>\n",
       "    </tr>\n",
       "  </thead>\n",
       "  <tbody>\n",
       "    <tr>\n",
       "      <th>0</th>\n",
       "      <td>ekonomi</td>\n",
       "      <td>pemerintah optimistis ekonomi indonesia akan t...</td>\n",
       "    </tr>\n",
       "    <tr>\n",
       "      <th>1</th>\n",
       "      <td>ekonomi</td>\n",
       "      <td>mandiri investment forum  yang akan berlangsun...</td>\n",
       "    </tr>\n",
       "    <tr>\n",
       "      <th>2</th>\n",
       "      <td>ekonomi</td>\n",
       "      <td>pt bank mandiri tbk memprediksi bahwa pertumbu...</td>\n",
       "    </tr>\n",
       "    <tr>\n",
       "      <th>3</th>\n",
       "      <td>ekonomi</td>\n",
       "      <td>pemulihan ekonomi indonesia diprediksi terjadi...</td>\n",
       "    </tr>\n",
       "    <tr>\n",
       "      <th>4</th>\n",
       "      <td>ekonomi</td>\n",
       "      <td>menteri perindustrian (menperin) agus gumiwang...</td>\n",
       "    </tr>\n",
       "  </tbody>\n",
       "</table>\n",
       "</div>"
      ],
      "text/plain": [
       "    bidang                                                isi\n",
       "0  ekonomi  pemerintah optimistis ekonomi indonesia akan t...\n",
       "1  ekonomi  mandiri investment forum  yang akan berlangsun...\n",
       "2  ekonomi  pt bank mandiri tbk memprediksi bahwa pertumbu...\n",
       "3  ekonomi  pemulihan ekonomi indonesia diprediksi terjadi...\n",
       "4  ekonomi  menteri perindustrian (menperin) agus gumiwang..."
      ]
     },
     "execution_count": 52,
     "metadata": {},
     "output_type": "execute_result"
    }
   ],
   "source": [
    "df = pd.concat([df1,df_temp,df3,df_tekno,df5_],axis=0)\n",
    "df['bidang']=df['Bidang'].apply(remove_df_special)\n",
    "df['isi'] = df['Isi'].apply(remove_df_special)\n",
    "df.drop(columns=['Bidang', 'Isi'],inplace=True)\n",
    "df.drop_duplicates(subset=['isi'])\n",
    "df.head()"
   ]
  },
  {
   "cell_type": "code",
   "execution_count": 53,
   "metadata": {},
   "outputs": [
    {
     "data": {
      "text/plain": [
       "bidang\n",
       "hukum                        298\n",
       "teknologi                    297\n",
       "sosial                       289\n",
       "pendidikan                   274\n",
       "kependudukan                 242\n",
       "ekonomi                      241\n",
       "administrasi pemerintahan    232\n",
       "politik                      229\n",
       "lingkungan hidup             229\n",
       "hiburan                      227\n",
       "kesehatan                    210\n",
       "infrastruktur                204\n",
       "Name: count, dtype: int64"
      ]
     },
     "execution_count": 53,
     "metadata": {},
     "output_type": "execute_result"
    }
   ],
   "source": [
    "df['bidang'].value_counts()"
   ]
  },
  {
   "cell_type": "code",
   "execution_count": 54,
   "metadata": {},
   "outputs": [],
   "source": [
    "# import torch and Huggingface dependencies\n",
    "from transformers import AutoModel, AutoTokenizer\n",
    "import torch.nn as nn\n",
    "import torch"
   ]
  },
  {
   "cell_type": "code",
   "execution_count": 56,
   "metadata": {},
   "outputs": [],
   "source": [
    "\n",
    "class model(nn.Module):\n",
    "    def __init__(self, checkpoint, freeze=False, device='cpu'):\n",
    "        super().__init__()\n",
    "        \n",
    "        self.model = AutoModel.from_pretrained(checkpoint)\n",
    "        hidden_sz = self.model.config.hidden_size\n",
    "        # set device cuda or cpu\n",
    "        self.device = device\n",
    "        # freeze model\n",
    "        if freeze:\n",
    "            for layer in self.model.parameters():\n",
    "                layer.requires_grad=False\n",
    "        \n",
    "    def forward(self, x, attention_mask=None):\n",
    "            \n",
    "        x = x.to(self.device)\n",
    "        # pooler_output(seq,dim) \n",
    "        with torch.no_grad():\n",
    "            model_out = self.model(x['input_ids'], x['attention_mask'], return_dict=True)\n",
    "            \n",
    "        embds = model_out.last_hidden_state # model_out[0][:,0]\n",
    "        mean_pool = embds.sum(axis=1)/ x['attention_mask'].sum(axis=1).unsqueeze(axis=1)\n",
    "        return mean_pool"
   ]
  },
  {
   "cell_type": "code",
   "execution_count": 57,
   "metadata": {},
   "outputs": [],
   "source": [
    "checkpoint = 'indolem/indobertweet-base-uncased'\n",
    "indobert = model(checkpoint, freeze=True)\n",
    "\n",
    "tokenizer = AutoTokenizer.from_pretrained(checkpoint)"
   ]
  },
  {
   "cell_type": "code",
   "execution_count": 58,
   "metadata": {},
   "outputs": [],
   "source": [
    "docs = list( df['isi'])\n",
    "label = list( df['bidang'])"
   ]
  },
  {
   "cell_type": "code",
   "execution_count": 59,
   "metadata": {},
   "outputs": [
    {
     "name": "stderr",
     "output_type": "stream",
     "text": [
      "Asking to truncate to max_length but no maximum length is provided and the model has no predefined maximum length. Default to no truncation.\n"
     ]
    }
   ],
   "source": [
    "# dataloader\n",
    "final_embeddings =list()\n",
    "all_embeddings = []\n",
    "\n",
    "final_sentences = docs\n",
    "\n",
    "batch_sz = 200 # batch_size\n",
    "for idx in range(0, len(final_sentences), batch_sz):\n",
    "    batch_sentences = final_sentences[idx:idx+batch_sz]\n",
    "    for sent in batch_sentences:\n",
    "        tokens = tokenizer(sent ,truncation='longest_first', return_tensors='pt', return_attention_mask=True,padding=True)\n",
    "        embeddings = indobert(tokens)\n",
    "        final_embeddings.extend(embeddings)\n",
    "        all_embeddings = torch.stack(final_embeddings)"
   ]
  },
  {
   "cell_type": "markdown",
   "metadata": {},
   "source": [
    "# KLASIFIKASI"
   ]
  },
  {
   "cell_type": "code",
   "execution_count": 60,
   "metadata": {},
   "outputs": [
    {
     "name": "stdout",
     "output_type": "stream",
     "text": [
      "jml training  2377 jml test  595\n"
     ]
    }
   ],
   "source": [
    "from sklearn.model_selection import train_test_split\n",
    "labels=df['bidang'].map({'ekonomi':1, 'teknologi':2, 'hukum':3, 'sosial':4, 'kesehatan':5, 'politik': 6, 'hiburan':7,'kependudukan':8, 'lingkungan hidup':9, 'infrastruktur':10, 'pendidikan':11, 'administrasi pemerintahan':12 })  \n",
    "x_train, x_val, y_train, y_val = train_test_split(pd.DataFrame(all_embeddings),labels,test_size=0.2,random_state=1, stratify = labels)\n",
    "\n",
    "print(\"jml training \",len(x_train),\"jml test \",len(x_val))"
   ]
  },
  {
   "cell_type": "code",
   "execution_count": 61,
   "metadata": {},
   "outputs": [
    {
     "name": "stdout",
     "output_type": "stream",
     "text": [
      "   |akurasi train   =  1.0    |akurasi test     =  0.9109243697478991\n"
     ]
    }
   ],
   "source": [
    "#Support Vector Machine (SVM) classifier with OvR strategy\n",
    "from sklearn.svm import SVC\n",
    "from sklearn.metrics import accuracy_score\n",
    "\n",
    "svm_ovr_model = SVC(kernel='linear', C=1, decision_function_shape='ovo', random_state=1)\n",
    "svm_ovr_model.fit(x_train, y_train.values.ravel())\n",
    "prediction_ovr = svm_ovr_model.predict(x_val)\n",
    "\n",
    "akurasiNN_train = svm_ovr_model.score(x_train,y_train)\n",
    "akurasiNN = svm_ovr_model.score(x_val,y_val)\n",
    "\n",
    "print('   |akurasi train   = ',akurasiNN_train,'   |akurasi test     = ',akurasiNN)\n"
   ]
  },
  {
   "cell_type": "code",
   "execution_count": 62,
   "metadata": {},
   "outputs": [
    {
     "data": {
      "text/plain": [
       "array([[42,  2,  0,  0,  1,  3,  0,  0,  0,  0,  0,  0],\n",
       "       [ 0, 60,  0,  0,  0,  0,  0,  0,  0,  0,  0,  0],\n",
       "       [ 0,  0, 59,  0,  1,  0,  0,  0,  0,  0,  0,  0],\n",
       "       [ 0,  2,  0, 53,  0,  0,  0,  0,  1,  0,  0,  2],\n",
       "       [ 1,  0,  0,  0, 35,  1,  5,  0,  0,  0,  0,  0],\n",
       "       [ 4,  1,  4,  0,  1, 34,  2,  0,  0,  0,  0,  0],\n",
       "       [ 1,  1,  0,  0,  1,  0, 42,  0,  0,  0,  0,  0],\n",
       "       [ 0,  0,  0,  1,  0,  0,  0, 44,  0,  0,  1,  2],\n",
       "       [ 0,  0,  0,  1,  0,  0,  0,  0, 44,  1,  0,  0],\n",
       "       [ 0,  0,  0,  3,  0,  0,  0,  0,  1, 35,  1,  1],\n",
       "       [ 0,  0,  0,  1,  0,  2,  1,  0,  0,  0, 51,  0],\n",
       "       [ 0,  0,  0,  2,  0,  0,  0,  1,  0,  0,  0, 43]], dtype=int64)"
      ]
     },
     "execution_count": 62,
     "metadata": {},
     "output_type": "execute_result"
    }
   ],
   "source": [
    "from sklearn.metrics import confusion_matrix\n",
    "confusion_matrix(y_val,prediction_ovr)"
   ]
  },
  {
   "cell_type": "code",
   "execution_count": 63,
   "metadata": {},
   "outputs": [
    {
     "name": "stdout",
     "output_type": "stream",
     "text": [
      "Hidden layer  =  [50, 50]\n",
      "Learning rate =  5e-05    |akurasi train   =  1.0    |akurasi test     =  0.9092436974789916\n",
      "Learning rate =  0.0005    |akurasi train   =  1.0    |akurasi test     =  0.9159663865546218\n",
      "Learning rate =  0.001    |akurasi train   =  1.0    |akurasi test     =  0.9042016806722689\n",
      "Learning rate =  0.01    |akurasi train   =  1.0    |akurasi test     =  0.9092436974789916\n",
      "Hidden layer  =  [80, 80]\n",
      "Learning rate =  5e-05    |akurasi train   =  1.0    |akurasi test     =  0.9109243697478991\n",
      "Learning rate =  0.0005    |akurasi train   =  1.0    |akurasi test     =  0.9058823529411765\n",
      "Learning rate =  0.001    |akurasi train   =  1.0    |akurasi test     =  0.9058823529411765\n",
      "Learning rate =  0.01    |akurasi train   =  1.0    |akurasi test     =  0.9109243697478991\n",
      "Hidden layer  =  [100, 100]\n",
      "Learning rate =  5e-05    |akurasi train   =  1.0    |akurasi test     =  0.9176470588235294\n",
      "Learning rate =  0.0005    |akurasi train   =  1.0    |akurasi test     =  0.9092436974789916\n",
      "Learning rate =  0.001    |akurasi train   =  1.0    |akurasi test     =  0.9109243697478991\n",
      "Learning rate =  0.01    |akurasi train   =  1.0    |akurasi test     =  0.9126050420168067\n",
      "Hidden layer  =  [120, 120]\n",
      "Learning rate =  5e-05    |akurasi train   =  1.0    |akurasi test     =  0.9126050420168067\n",
      "Learning rate =  0.0005    |akurasi train   =  1.0    |akurasi test     =  0.907563025210084\n",
      "Learning rate =  0.001    |akurasi train   =  1.0    |akurasi test     =  0.9159663865546218\n",
      "Learning rate =  0.01    |akurasi train   =  0.9991586032814472    |akurasi test     =  0.907563025210084\n"
     ]
    }
   ],
   "source": [
    "from sklearn.neural_network import MLPClassifier\n",
    "\n",
    "#Neural Network -------------------------------------------\n",
    "hl = [[50,50],[80,80],[100,100],[120,120]]\n",
    "lr = [0.00005, 0.0005, 0.001, 0.01]\n",
    "\n",
    "for x in hl:\n",
    "    print('Hidden layer  = ',x)\n",
    "    for y in lr:\n",
    "        modelNN = MLPClassifier(max_iter=1500, activation='relu',random_state=1, batch_size = 128, hidden_layer_sizes=x, learning_rate_init=y).fit(x_train,y_train.values.ravel())\n",
    "        predNN = modelNN.predict(x_val)\n",
    "        akurasiNN_train = modelNN.score(x_train,y_train)\n",
    "        akurasiNN = modelNN.score(x_val,y_val)\n",
    "        print('Learning rate = ',y,'   |akurasi train   = ',akurasiNN_train,'   |akurasi test     = ',akurasiNN)"
   ]
  },
  {
   "cell_type": "code",
   "execution_count": 65,
   "metadata": {},
   "outputs": [
    {
     "name": "stdout",
     "output_type": "stream",
     "text": [
      "akurasi Holdout - Neural Network TRAIN =  1.0\n",
      "akurasi Holdout - Neural Network TEST =  0.9142857142857143\n",
      "confusion matrik test :\n",
      "[[41  1  0  0  1  4  1  0  0  0  0  0]\n",
      " [ 0 60  0  0  0  0  0  0  0  0  0  0]\n",
      " [ 0  0 59  0  1  0  0  0  0  0  0  0]\n",
      " [ 0  2  0 53  1  0  0  0  1  0  1  0]\n",
      " [ 1  1  1  0 36  0  3  0  0  0  0  0]\n",
      " [ 3  1  3  0  0 36  3  0  0  0  0  0]\n",
      " [ 0  2  0  0  1  0 42  0  0  0  0  0]\n",
      " [ 0  0  0  1  0  1  0 43  0  0  1  2]\n",
      " [ 0  0  0  1  0  0  0  0 44  1  0  0]\n",
      " [ 0  0  0  3  0  0  0  0  0 37  1  0]\n",
      " [ 0  0  0  1  0  2  1  0  0  0 51  0]\n",
      " [ 0  0  0  3  0  0  0  1  0  0  0 42]]\n"
     ]
    }
   ],
   "source": [
    "#Pilih Model terbaik Neural Network\n",
    "#Berdasarkan percobaan diatas, learning rate = 0.001 dan hidden layer =[120,120] menghasilkan rata-rata akurasi tertinggi\n",
    "from sklearn.metrics import confusion_matrix\n",
    "mNN = MLPClassifier(max_iter=1500, activation='relu',random_state=1, hidden_layer_sizes=[120,120], learning_rate_init=0.001).fit(x_train,y_train.values.ravel())\n",
    "predNN = mNN.predict(x_val)\n",
    "accuracyHONN_train = mNN.score(x_train,y_train)\n",
    "accuracyHONN = mNN.score(x_val,y_val)\n",
    "print('akurasi Holdout - Neural Network TRAIN = ',accuracyHONN_train)\n",
    "print('akurasi Holdout - Neural Network TEST = ',accuracyHONN)\n",
    "cmNN = confusion_matrix(y_val,predNN)\n",
    "print('confusion matrik test :')\n",
    "print(cmNN)"
   ]
  },
  {
   "cell_type": "code",
   "execution_count": 66,
   "metadata": {},
   "outputs": [
    {
     "data": {
      "text/plain": [
       "['model_topik_new.pkl']"
      ]
     },
     "execution_count": 66,
     "metadata": {},
     "output_type": "execute_result"
    }
   ],
   "source": [
    "import joblib\n",
    "joblib.dump(mNN,'model_topik_new.pkl')"
   ]
  },
  {
   "cell_type": "code",
   "execution_count": 67,
   "metadata": {},
   "outputs": [],
   "source": [
    "import joblib\n",
    "model_load = joblib.load('model_topik_new.pkl')"
   ]
  },
  {
   "cell_type": "code",
   "execution_count": 68,
   "metadata": {},
   "outputs": [],
   "source": [
    "checkpoint = 'indolem/indobertweet-base-uncased'\n",
    "indobert = model(checkpoint, freeze=True)\n",
    "tokenizer = AutoTokenizer.from_pretrained(checkpoint)\n",
    "kata = \"BUDAYA membaca adalah kebiasaan atau pola perilaku dalam membaca yang diterapkan secara luas dalam suatu masyarakat. Budaya ini penting karena berperan besar dalam pengembangan intelektual individu dan kemajuan bangsa. Di era informasi dan digital saat ini, membaca tidak hanya terbatas pada buku cetak, tetapi juga mencakup media digital seperti e-book, artikel online, dan media sosial. Tentu ada banyak manfaatnya. Pertama, meningkatkan pengetahuan: Membaca membuka akses pada informasi dan ilmu pengetahuan yang membantu individu memahami dunia secara lebih luas.\""
   ]
  },
  {
   "cell_type": "code",
   "execution_count": 69,
   "metadata": {},
   "outputs": [
    {
     "name": "stderr",
     "output_type": "stream",
     "text": [
      "Asking to truncate to max_length but no maximum length is provided and the model has no predefined maximum length. Default to no truncation.\n"
     ]
    }
   ],
   "source": [
    "# dataloader\n",
    "final_embeddings =list()\n",
    "all_embeddings = []\n",
    "\n",
    "final_sentences = [kata]\n",
    "\n",
    "batch_sz = 200 # batch_size\n",
    "for idx in range(0, len(final_sentences), batch_sz):\n",
    "    batch_sentences = final_sentences[idx:idx+batch_sz]\n",
    "    for sent in batch_sentences:\n",
    "        tokens = tokenizer(sent ,truncation='longest_first', return_tensors='pt', return_attention_mask=True,padding=True)\n",
    "        embeddings = indobert(tokens)\n",
    "        final_embeddings.extend(embeddings)\n",
    "        all_embeddings = torch.stack(final_embeddings)"
   ]
  },
  {
   "cell_type": "code",
   "execution_count": 70,
   "metadata": {},
   "outputs": [
    {
     "data": {
      "text/plain": [
       "array([2], dtype=int64)"
      ]
     },
     "execution_count": 70,
     "metadata": {},
     "output_type": "execute_result"
    }
   ],
   "source": [
    "model_load.predict(pd.DataFrame(all_embeddings))"
   ]
  }
 ],
 "metadata": {
  "kernelspec": {
   "display_name": "pytorch_gpu2",
   "language": "python",
   "name": "python3"
  },
  "language_info": {
   "codemirror_mode": {
    "name": "ipython",
    "version": 3
   },
   "file_extension": ".py",
   "mimetype": "text/x-python",
   "name": "python",
   "nbconvert_exporter": "python",
   "pygments_lexer": "ipython3",
   "version": "3.8.19"
  }
 },
 "nbformat": 4,
 "nbformat_minor": 2
}
